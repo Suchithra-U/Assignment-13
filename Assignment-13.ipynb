{
 "cells": [
  {
   "cell_type": "code",
   "execution_count": 1,
   "metadata": {},
   "outputs": [
    {
     "name": "stdout",
     "output_type": "stream",
     "text": [
      "27\n"
     ]
    }
   ],
   "source": [
    "#To sum all items in a list\n",
    "def sum_list(items):\n",
    "    sum_numbers=0\n",
    "    for x in items:\n",
    "        sum_numbers+=x\n",
    "    return sum_numbers\n",
    "print(sum_list([6,28,-7]))"
   ]
  },
  {
   "cell_type": "code",
   "execution_count": 6,
   "metadata": {},
   "outputs": [
    {
     "name": "stdout",
     "output_type": "stream",
     "text": [
      "[{}, {}, {}]\n"
     ]
    }
   ],
   "source": [
    "#To create a list of empty dictionaries\n",
    "n=3\n",
    "l=[{} for _  in range(n)]\n",
    "print(l)"
   ]
  },
  {
   "cell_type": "code",
   "execution_count": 8,
   "metadata": {},
   "outputs": [
    {
     "name": "stdout",
     "output_type": "stream",
     "text": [
      "maths\n"
     ]
    }
   ],
   "source": [
    "#To access dictionary key element by index\n",
    "num={'physics':80,'maths':90,'chemistry':86}\n",
    "print(list(num)[1])"
   ]
  },
  {
   "cell_type": "code",
   "execution_count": 11,
   "metadata": {},
   "outputs": [
    {
     "name": "stdout",
     "output_type": "stream",
     "text": [
      "Blue corresponds to 1\n",
      "Green corresponds to 2\n",
      "Red corresponds to 3\n"
     ]
    }
   ],
   "source": [
    "#To iterate over a dictionaries using for loop\n",
    "d={'Blue':1,'Green':2,'Red':3}\n",
    "for color_key,value in d.items():\n",
    "    print(color_key,'corresponds to',d[color_key])"
   ]
  },
  {
   "cell_type": "code",
   "execution_count": 12,
   "metadata": {},
   "outputs": [
    {
     "name": "stdout",
     "output_type": "stream",
     "text": [
      "293\n"
     ]
    }
   ],
   "source": [
    "#To sum all the items in a dictionary\n",
    "my_dict={'data1':100,'data2':-54,'data3':247}\n",
    "print(sum(my_dict.values()))"
   ]
  },
  {
   "cell_type": "code",
   "execution_count": 13,
   "metadata": {},
   "outputs": [
    {
     "name": "stdout",
     "output_type": "stream",
     "text": [
      "{1: 10, 2: 20, 3: 30, 4: 40, 5: 50, 6: 60}\n"
     ]
    }
   ],
   "source": [
    "#To concatenate dictionaries to create a new one\n",
    "dic1={1:10,2:20}\n",
    "dic2={3:30,4:40}\n",
    "dic3={5:50,6:60}\n",
    "dic4={}\n",
    "for d in (dic1,dic2,dic3):dic4.update(d)\n",
    "print(dic4)"
   ]
  },
  {
   "cell_type": "code",
   "execution_count": 21,
   "metadata": {},
   "outputs": [
    {
     "name": "stdout",
     "output_type": "stream",
     "text": [
      "('Mango', 'Banana', 'Apple')\n",
      "('Tom', 341, 'Jerry')\n",
      "3\n"
     ]
    },
    {
     "data": {
      "text/plain": [
       "int"
      ]
     },
     "execution_count": 21,
     "metadata": {},
     "output_type": "execute_result"
    }
   ],
   "source": [
    "#To create a tuple and create a tuple with single value \n",
    "t='Mango','Banana','Apple'\n",
    "print(t)\n",
    "\n",
    "t1=('Tom',341,'Jerry')\n",
    "print(t1)\n",
    "\n",
    "x=(3)\n",
    "print(x)\n",
    "type(x)\n",
    "\n",
    "\n"
   ]
  },
  {
   "cell_type": "code",
   "execution_count": 22,
   "metadata": {},
   "outputs": [
    {
     "data": {
      "text/plain": [
       "tuple"
      ]
     },
     "execution_count": 22,
     "metadata": {},
     "output_type": "execute_result"
    }
   ],
   "source": [
    "#Tuple using comma\n",
    "t2=6,\n",
    "type(t2)"
   ]
  },
  {
   "cell_type": "code",
   "execution_count": 23,
   "metadata": {},
   "outputs": [
    {
     "name": "stdout",
     "output_type": "stream",
     "text": [
      "('H', 'e', 'l', 'l', 'o')\n"
     ]
    }
   ],
   "source": [
    "#To create tuple using different data types\n",
    "#Using String\n",
    "t=tuple('Hello')\n",
    "print(t)"
   ]
  },
  {
   "cell_type": "code",
   "execution_count": 24,
   "metadata": {},
   "outputs": [
    {
     "name": "stdout",
     "output_type": "stream",
     "text": [
      "(3, [6, 28], 'hi')\n"
     ]
    }
   ],
   "source": [
    "#Using list\n",
    "t=tuple([3,[6,28],'hi'])\n",
    "print(t)"
   ]
  },
  {
   "cell_type": "code",
   "execution_count": 25,
   "metadata": {},
   "outputs": [
    {
     "name": "stdout",
     "output_type": "stream",
     "text": [
      "('Mango', 34, 'Hello')\n"
     ]
    },
    {
     "data": {
      "text/plain": [
       "True"
      ]
     },
     "execution_count": 25,
     "metadata": {},
     "output_type": "execute_result"
    }
   ],
   "source": [
    "#Using another tuple\n",
    "t=('Mango',34,'Hello')\n",
    "t1=tuple(t)\n",
    "print(t1)\n",
    "\n",
    "t is t1"
   ]
  },
  {
   "cell_type": "code",
   "execution_count": 26,
   "metadata": {},
   "outputs": [
    {
     "name": "stdout",
     "output_type": "stream",
     "text": [
      "gitam\n"
     ]
    }
   ],
   "source": [
    "#To convert a tuple to a string\n",
    "def convertTuple(tup):\n",
    "    str=''.join(tup)\n",
    "    return str\n",
    "tuple=('g','i','t','a','m')\n",
    "str=convertTuple(tuple)\n",
    "print(str)\n"
   ]
  },
  {
   "cell_type": "code",
   "execution_count": 32,
   "metadata": {},
   "outputs": [
    {
     "name": "stdout",
     "output_type": "stream",
     "text": [
      "(6, 28)\n",
      "(6, 28)\n",
      "Hello Gitam\n",
      "loGt\n",
      "Hot\n",
      "a \n"
     ]
    }
   ],
   "source": [
    "#To slice a tuple\n",
    "tuple=(2,3,28,6,28,6,7,1)\n",
    "_slice=tuple[3:5]\n",
    "print(_slice)\n",
    "_slice[-8:-4]\n",
    "print(_slice)\n",
    "tuple1= (\"Hello Gitam\")\n",
    "print(tuple1)\n",
    "_slice=tuple1[2:9:2]\n",
    "print(_slice)\n",
    "_slice=tuple1[::4]\n",
    "print(_slice)\n",
    "_slice=tuple1[9:2:-4]\n",
    "print(_slice)"
   ]
  },
  {
   "cell_type": "code",
   "execution_count": 34,
   "metadata": {},
   "outputs": [
    {
     "name": "stdout",
     "output_type": "stream",
     "text": [
      "gitam\n",
      "5\n"
     ]
    }
   ],
   "source": [
    "#To find length of a tuple\n",
    "tuple1=(\"gitam\")\n",
    "print(tuple1)\n",
    "print(len(tuple1))"
   ]
  },
  {
   "cell_type": "code",
   "execution_count": 37,
   "metadata": {},
   "outputs": [
    {
     "name": "stdout",
     "output_type": "stream",
     "text": [
      "{'s': 2, 'k': 3}\n"
     ]
    }
   ],
   "source": [
    "#To convert a tuple to a dictionary\n",
    "tuple1=(2,\"s\"),(3,\"k\")\n",
    "print(dict((y,x) for x,y in tuple1))"
   ]
  },
  {
   "cell_type": "code",
   "execution_count": 52,
   "metadata": {},
   "outputs": [
    {
     "name": "stdout",
     "output_type": "stream",
     "text": [
      "ytisrevinU matiG\n"
     ]
    }
   ],
   "source": [
    "#To reverse a tuple\n",
    "def reverse(tuple):\n",
    "    new_tup= tuple[::-1]\n",
    "    return new_tup\n",
    "x= (\"Gitam University\")\n",
    "print(reverse(x))"
   ]
  },
  {
   "cell_type": "code",
   "execution_count": 54,
   "metadata": {},
   "outputs": [
    {
     "name": "stdout",
     "output_type": "stream",
     "text": [
      "{'x': [1, 2], 'y': [1, 2], 'z': [1]}\n"
     ]
    }
   ],
   "source": [
    "#To convert a list of tuples into a dictionary\n",
    "l=[(\"x\",1),(\"x\",2),(\"y\",1),(\"y\",2),(\"z\",1)]\n",
    "d={}\n",
    "for a,b in l:\n",
    "    d.setdefault(a,[]).append(b)\n",
    "print(d)"
   ]
  },
  {
   "cell_type": "code",
   "execution_count": 56,
   "metadata": {},
   "outputs": [
    {
     "name": "stdout",
     "output_type": "stream",
     "text": [
      "[5, 10, 28, 6, 15]\n",
      "[5, 10, 28, 6, 15]\n"
     ]
    }
   ],
   "source": [
    "#To convert a list to tupple\n",
    "listx=[5,10,28,6,15]\n",
    "print(listx)\n",
    "tuplex=(listx)\n",
    "print(tuplex)"
   ]
  },
  {
   "cell_type": "code",
   "execution_count": null,
   "metadata": {},
   "outputs": [],
   "source": []
  }
 ],
 "metadata": {
  "kernelspec": {
   "display_name": "Python 3",
   "language": "python",
   "name": "python3"
  },
  "language_info": {
   "codemirror_mode": {
    "name": "ipython",
    "version": 3
   },
   "file_extension": ".py",
   "mimetype": "text/x-python",
   "name": "python",
   "nbconvert_exporter": "python",
   "pygments_lexer": "ipython3",
   "version": "3.8.3"
  }
 },
 "nbformat": 4,
 "nbformat_minor": 4
}
